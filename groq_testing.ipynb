{
 "cells": [
  {
   "cell_type": "code",
   "execution_count": 1,
   "id": "87a5509f-5f7a-4b0b-b80b-769cf6aa7646",
   "metadata": {},
   "outputs": [],
   "source": [
    "from langchain_groq import ChatGroq\n",
    "\n",
    "llm = ChatGroq(\n",
    "    model=\"llama-3.1-70b-versatile\",\n",
    "    groq_api_key = \"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\",\n",
    "    temperature=0,\n",
    "    max_tokens=None,\n",
    "    timeout=None,\n",
    "    max_retries=2,\n",
    "    # other params...\n",
    ")"
   ]
  },
  {
   "cell_type": "code",
   "execution_count": 4,
   "id": "f127e11e-bff8-4d5b-90f4-9f5ea91ab9d5",
   "metadata": {},
   "outputs": [],
   "source": [
    "def get_response(prompt):\n",
    "    response = llm.invoke(prompt)\n",
    "    print(response.content)"
   ]
  },
  {
   "cell_type": "code",
   "execution_count": 5,
   "id": "80ec731c-9a79-4878-a169-7dac900c9352",
   "metadata": {},
   "outputs": [
    {
     "name": "stdout",
     "output_type": "stream",
     "text": [
      "Pawan Kalyan is a renowned Indian actor, filmmaker, and politician, primarily known for his work in the Telugu film industry. Born on September 2, 1971, in Bapatla, Andhra Pradesh, India, he is the younger brother of Chiranjeevi, another prominent Telugu actor.\n",
      "\n",
      "Pawan Kalyan's popularity can be attributed to several factors:\n",
      "\n",
      "1. **Versatile acting career**: With a career spanning over three decades, Pawan Kalyan has acted in over 25 films, showcasing his versatility in various genres, including action, comedy, romance, and drama. Some of his notable films include \"Tholi Prema,\" \"Badri,\" \"Kushi,\" \"Jalsa,\" and \"Gabbar Singh.\"\n",
      "2. **Unique on-screen presence**: Pawan Kalyan's charismatic on-screen presence, distinctive dialogue delivery, and impressive dance moves have endeared him to audiences. His ability to connect with the masses through his performances has contributed to his massive fan base.\n",
      "3. **Social and philanthropic work**: Pawan Kalyan is known for his social and philanthropic activities, particularly in the areas of education, healthcare, and disaster relief. His charitable efforts have earned him a reputation as a socially responsible celebrity.\n",
      "4. **Politics**: In 2014, Pawan Kalyan founded the Jana Sena Party, a regional political party in Andhra Pradesh. Although he has not held any official government position, his involvement in politics has helped him maintain a strong public presence and connect with his fans on a different level.\n",
      "5. **Mass appeal**: Pawan Kalyan's ability to connect with the common man, particularly in rural areas, has contributed to his massive popularity. His down-to-earth personality, simplicity, and humility have made him a beloved figure among the Telugu-speaking population.\n",
      "6. **Fan base**: Pawan Kalyan has a dedicated and passionate fan base, known as \"Pawan Kalyan Fans\" or \"Power Star Fans.\" His fans are known for their enthusiasm and loyalty, often creating a buzz around his films and public appearances.\n",
      "\n",
      "Overall, Pawan Kalyan's popularity can be attributed to a combination of his talented acting career, social and philanthropic work, unique on-screen presence, and mass appeal, which have endeared him to audiences across the Telugu-speaking world.\n"
     ]
    }
   ],
   "source": [
    "get_response(\"Who is Pawan Kalyan and why is he so popular?\")"
   ]
  },
  {
   "cell_type": "code",
   "execution_count": 7,
   "id": "3711eb05-801d-4744-9e42-0efd40d9d5e3",
   "metadata": {},
   "outputs": [
    {
     "name": "stdout",
     "output_type": "stream",
     "text": [
      "**What is GroqCloud?**\n",
      "\n",
      "GroqCloud is a cloud-based platform that provides access to Groq's high-performance computing (HPC) infrastructure, specifically designed for artificial intelligence (AI) and machine learning (ML) workloads. Groq is a company that specializes in developing custom AI accelerators, which are designed to accelerate AI and ML computations.\n",
      "\n",
      "GroqCloud allows users to deploy and run their AI and ML models on Groq's custom-built hardware, which is optimized for performance and efficiency. This enables users to scale their AI and ML workloads, reduce latency, and improve overall performance.\n",
      "\n",
      "**Key Features of GroqCloud:**\n",
      "\n",
      "1. **High-Performance Computing**: GroqCloud provides access to high-performance computing resources, including custom-built AI accelerators.\n",
      "2. **Scalability**: Users can scale their AI and ML workloads to meet their specific needs.\n",
      "3. **Low Latency**: GroqCloud's optimized infrastructure reduces latency, enabling faster model inference and training.\n",
      "4. **Security**: GroqCloud provides enterprise-grade security features to protect user data and models.\n",
      "\n",
      "**What is LangChain?**\n",
      "\n",
      "LangChain is an open-source framework for building and deploying large language models (LLMs). It provides a set of tools and APIs for training, fine-tuning, and deploying LLMs on various cloud platforms, including GroqCloud.\n",
      "\n",
      "**Connecting LangChain with GroqCloud:**\n",
      "\n",
      "To connect LangChain with GroqCloud, you'll need to follow these steps:\n",
      "\n",
      "**Prerequisites:**\n",
      "\n",
      "1. **GroqCloud Account**: Create a GroqCloud account and obtain an API key.\n",
      "2. **LangChain Installation**: Install LangChain using pip: `pip install langchain`\n",
      "3. **GroqCloud SDK**: Install the GroqCloud SDK using pip: `pip install groqcloud`\n",
      "\n",
      "**Step 1: Configure LangChain to use GroqCloud**\n",
      "\n",
      "In your LangChain configuration file (e.g., `langchain_config.json`), add the following settings:\n",
      "```json\n",
      "{\n",
      "  \"cloud\": {\n",
      "    \"provider\": \"groqcloud\",\n",
      "    \"api_key\": \"YOUR_GROQ_CLOUD_API_KEY\",\n",
      "    \"region\": \"YOUR_GROQ_CLOUD_REGION\"\n",
      "  }\n",
      "}\n",
      "```\n",
      "Replace `YOUR_GROQ_CLOUD_API_KEY` and `YOUR_GROQ_CLOUD_REGION` with your actual GroqCloud API key and region.\n",
      "\n",
      "**Step 2: Create a GroqCloud Cluster**\n",
      "\n",
      "Create a GroqCloud cluster using the LangChain CLI:\n",
      "```bash\n",
      "langchain cloud create-cluster --provider groqcloud --region YOUR_GROQ_CLOUD_REGION\n",
      "```\n",
      "This will create a new cluster on GroqCloud.\n",
      "\n",
      "**Step 3: Deploy LangChain Model on GroqCloud**\n",
      "\n",
      "Deploy your LangChain model on the GroqCloud cluster:\n",
      "```bash\n",
      "langchain deploy --model YOUR_MODEL_NAME --cluster YOUR_CLUSTER_NAME\n",
      "```\n",
      "Replace `YOUR_MODEL_NAME` with the name of your LangChain model, and `YOUR_CLUSTER_NAME` with the name of the cluster you created in Step 2.\n",
      "\n",
      "**Step 4: Use LangChain with GroqCloud**\n",
      "\n",
      "Once your model is deployed, you can use LangChain with GroqCloud to perform inference and other tasks:\n",
      "```python\n",
      "import langchain\n",
      "\n",
      "# Initialize LangChain with GroqCloud\n",
      "llm = langchain.LLM(\"YOUR_MODEL_NAME\", cloud_provider=\"groqcloud\")\n",
      "\n",
      "# Perform inference\n",
      "result = llm(\"YOUR_INPUT_PROMPT\")\n",
      "print(result)\n",
      "```\n",
      "Replace `YOUR_MODEL_NAME` with the name of your LangChain model, and `YOUR_INPUT_PROMPT` with the input prompt for your model.\n",
      "\n",
      "By following these steps, you can connect LangChain with GroqCloud and leverage the high-performance computing capabilities of GroqCloud for your large language models.\n"
     ]
    }
   ],
   "source": [
    "get_response(\"\"\"can you give a detailed note on what is GroqCloud and how to connect it with LangChain?\"\"\")"
   ]
  },
  {
   "cell_type": "code",
   "execution_count": 8,
   "id": "10752021-16f2-41e4-b2a2-376967208712",
   "metadata": {},
   "outputs": [
    {
     "name": "stdout",
     "output_type": "stream",
     "text": [
      "A Vector Database (VectorDB) is a type of database that is specifically designed to store, manage, and query dense vector representations of data, such as images, text, and audio. These databases are optimized for similarity searches, where the goal is to find the most similar vectors to a given query vector.\n",
      "\n",
      "VectorDBs are often used in applications that involve:\n",
      "\n",
      "1. **Similarity search**: Finding the most similar items to a given query item, such as finding similar images or text documents.\n",
      "2. **Recommendation systems**: Building personalized recommendations based on user behavior and preferences.\n",
      "3. **Natural Language Processing (NLP)**: Storing and querying text embeddings, such as word embeddings or sentence embeddings.\n",
      "4. **Computer Vision**: Storing and querying image embeddings, such as image features extracted from convolutional neural networks (CNNs).\n",
      "\n",
      "VectorDBs typically support the following features:\n",
      "\n",
      "1. **Vector indexing**: Efficient indexing of dense vector data to enable fast similarity searches.\n",
      "2. **Similarity metrics**: Support for various similarity metrics, such as cosine similarity, Euclidean distance, and dot product.\n",
      "3. **Querying**: Support for querying the database using various methods, such as k-nearest neighbors (k-NN) search, range search, and similarity search.\n",
      "4. **Scalability**: Ability to handle large volumes of vector data and scale horizontally to support high-performance querying.\n",
      "\n",
      "Some popular VectorDBs include:\n",
      "\n",
      "1. **Faiss** (Facebook AI Similarity Search): An open-source library for efficient similarity search and clustering of dense vectors.\n",
      "2. **Annoy** (Approximate Nearest Neighbors Oh Yeah!): A C++ library with Python bindings for efficient nearest neighbor search.\n",
      "3. **Hnswlib** (Hierarchical Navigable Small World library): A C++ library with Python bindings for efficient similarity search and clustering of dense vectors.\n",
      "4. **Milvus**: An open-source VectorDB that supports various indexing algorithms and similarity metrics.\n",
      "5. **Pinecone**: A managed VectorDB service that supports various indexing algorithms and similarity metrics.\n",
      "\n",
      "VectorDBs are particularly useful when working with large volumes of dense vector data, as they provide efficient and scalable solutions for similarity search and querying.\n"
     ]
    }
   ],
   "source": [
    "get_response(\"\"\"Waht is a vectorDB? \"\"\")"
   ]
  }
 ],
 "metadata": {
  "kernelspec": {
   "display_name": "Python 3 (ipykernel)",
   "language": "python",
   "name": "python3"
  },
  "language_info": {
   "codemirror_mode": {
    "name": "ipython",
    "version": 3
   },
   "file_extension": ".py",
   "mimetype": "text/x-python",
   "name": "python",
   "nbconvert_exporter": "python",
   "pygments_lexer": "ipython3",
   "version": "3.11.5"
  }
 },
 "nbformat": 4,
 "nbformat_minor": 5
}
