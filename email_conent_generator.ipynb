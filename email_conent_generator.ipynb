{
 "cells": [
  {
   "cell_type": "markdown",
   "id": "fd3572ee-5f71-4ac8-a954-62c289247f3c",
   "metadata": {},
   "source": [
    "## Webscarpping and structuring results"
   ]
  },
  {
   "cell_type": "code",
   "execution_count": 1,
   "id": "d691f5e5-a42c-4f42-a092-d11311d86c6a",
   "metadata": {},
   "outputs": [
    {
     "name": "stderr",
     "output_type": "stream",
     "text": [
      "USER_AGENT environment variable not set, consider setting it to identify your requests.\n"
     ]
    }
   ],
   "source": [
    "from langchain_community.document_loaders import WebBaseLoader"
   ]
  },
  {
   "cell_type": "code",
   "execution_count": 2,
   "id": "92646ee0-6bbb-439b-a29f-bc97518cf07b",
   "metadata": {},
   "outputs": [],
   "source": [
    "def get_page_content(url):\n",
    "    loader = WebBaseLoader(url)\n",
    "    page_data = loader.load().pop().page_content\n",
    "    return page_data"
   ]
  },
  {
   "cell_type": "code",
   "execution_count": 3,
   "id": "18489862-7608-41d5-b760-98d99643d738",
   "metadata": {},
   "outputs": [
    {
     "data": {
      "text/plain": [
       "'\\n\\n\\n\\n  \\n\\n\\n\\n\\nJob Search - Infineon Technologies\\n\\n\\n\\n\\n\\n\\n\\n\\n\\n\\n\\n\\n\\n\\n\\n\\n\\n\\n\\n\\n\\n\\n\\n\\n\\n\\n\\n\\n\\n\\n\\n\\n\\n\\n\\n\\n\\n\\n\\n\\n\\n\\n\\n\\n\\n\\n\\n\\n\\n\\n\\n\\n\\n\\n\\n\\n\\n\\n\\n\\n\\n\\n\\n\\n\\n\\n\\n\\n\\n\\n\\n\\nToggle Navigation\\n\\n\\n\\n\\n\\n\\n\\nSearch\\n\\n\\n\\n\\n\\nProducts\\n\\n\\nApplications\\n\\n\\nDesign Support\\n\\n\\nCommunity\\n\\n\\nAbout Infineon\\n\\n\\nCareers\\n\\n\\n\\n\\n\\n\\n\\nNewsletter\\nContact\\nWhere to Buy\\n\\nEnglish\\n\\n\\n简体中文\\nDeutsch\\n日本語\\n\\n\\n\\nmyInfineon\\n\\n\\n\\n\\nRegister for myInfineon\\n\\n\\n\\n\\nCart\\n\\n\\n\\n\\n\\n\\n\\n\\n\\n\\n\\nCompany\\nOur Divisions\\nManagement Board\\nSupervisory Board\\nOur Locations\\nProcurement\\nQuality\\nInfineon Awards\\nInfineon Academy I Training\\nCybersecurity\\n\\n\\nSustainability\\nEnvironmental Sustainability and Climate Protection\\nSafety and Health\\nBusiness Ethics\\nCorporate Citizenship\\nCSR Supply Chain Management\\nHuman Rights\\nCSR Reporting\\n\\n\\n\\n\\nPress\\nGeneral Information\\nPress Releases\\nMarket News\\nPress Kits\\nMedia Pool\\nEvents\\nContacts\\n\\n\\nInvestor\\nAnnual General Meeting\\nInfineon at a Glance\\nNews & Events\\nReports & Presentations\\nInfineon Share\\nFixed Income\\nCorporate Governance\\nShareholder Service\\nContact\\n\\n\\nTradeshows & Conferences\\n\\n\\n\\n\\nDiscoveries\\nNew Mobility\\nInternet of Things\\nEnergy Efficiency\\nAll Discoveries\\n\\n\\n\\nVideos\\n\\n\\n\\n\\n\\n\\n\\n\\n\\n\\n\\n\\n\\n\\n\\n\\n\\n\\n\\nCareers\\n\\n\\n\\n\\nJob Search\\n\\n\\n\\n\\nWorking at Infineon\\n\\n\\n\\n\\nOur Locations\\n\\n\\n\\n\\nDiversity & Inclusion\\n\\n\\n\\n\\nStudents & Pupils\\n\\n\\n\\n\\nHow to apply\\n\\n\\n\\n\\nEvents\\n\\n\\n\\n\\n\\n\\n\\n\\n\\n\\n\\nHome\\nCareers\\nJob Search\\nJob Search \\n\\n\\n\\n\\n\\n\\n\\n\\nInfineon Job Search\\nApply now and make life easier, safer, and greener together with Infineon.\\n\\n\\n\\n\\n\\n\\n\\n\\n\\n\\n\\n\\n\\n\\n\\n\\nWARNING:\\nFake job advertisements are increasingly appearing on the internet and on social media.\\nWe become aware that job postings may have been made by people who claim to be recruiters for Infineon, even using Infineon employee names, but who are not affiliated with Infineon. We have also been made aware that unauthorized individuals may have posed as Infineon recruiters, made contact about job opportunities, and extended job offers via text message, instant message or chat rooms. These job postings and offers are not authorized by Infineon. Infineon is not responsible for fraudulent offers or requests for personal information.\\nInfineon will never extend an offer without a personal interview, nor charge any money for joining our company.\\nInfineon current job openings could be found on this page.  If you have encountered a job posting or have been approached with a job offer that you suspect may be fraudulent, we strongly recommend you do not respond and do not send money nor personal information. Always report fraud to the competent authorities.\\n\\xa0\\n\\n\\n\\n\\n\\n\\n\\n\\nSearch\\n\\n\\n\\n\\n\\n\\n\\n\\nReset\\n\\n\\n\\n\\nYour bookmarked jobs (0)\\n\\n\\n\\nAdd/remove jobs to your bookmark list to keep them in mind.\\nNo jobs in your bookmark list yet.\\n\\n\\n\\n\\n\\n\\n\\n\\n\\n\\n\\n\\n\\n\\n\\n\\n\\n\\n\\n\\n\\n\\n\\nSubscribe to our job alert\\n\\n\\n\\n\\n\\n\\n\\n\\nApplicant Login (only possible after already submitted application)\\n\\n\\n\\n\\n\\n\\n\\n\\nHow to apply\\n\\n\\n\\n\\n\\n\\n\\n\\n\\n\\n\\n\\n\\n\\n\\n\\n\\n\\n\\n\\n\\n\\n      Home\\n      \\n            > Careers\\n            > Job Search\\n            > Job Search \\n\\n\\nFollow us\\n\\n\\n\\n\\n\\n© 1999 - 2024\\xa0Infineon Technologies AG\\n\\nUsage of this website is subject to our Usage Terms\\nImprint\\nContact\\nPrivacy Policy\\nGlossary\\n\\n\\n\\n\\n苏ICP备15016286号-1 | 苏公网安备 32021402001016号 | 营业执照\\n\\n\\n\\n\\n\\n\\n\\nSwitch to Mobile Version\\nSwitch to Desktop Version\\n\\n\\n\\n\\n\\n\\n\\n\\n\\n\\n\\n\\n\\n\\n\\n\\n\\n\\n'"
      ]
     },
     "execution_count": 3,
     "metadata": {},
     "output_type": "execute_result"
    }
   ],
   "source": [
    "get_page_content(\"https://www.infineon.com/cms/en/careers/jobsearch/jobsearch/#!view=jobs&functional_area=Data%20Science&country=Germany&job_attributes=Full%20time\")"
   ]
  },
  {
   "cell_type": "markdown",
   "id": "557d4305-e5cc-4ef1-843f-9c2f3cb5aa7b",
   "metadata": {},
   "source": [
    "#### TO DO: Aim is to convert above web scraped content into jason, so that it is usable"
   ]
  },
  {
   "cell_type": "markdown",
   "id": "70db5645-c5a7-4e15-b1f9-7f08ece71598",
   "metadata": {},
   "source": [
    "##### I will pass webscrapped content along with a prompt asking an LLM to convert given text into dict format"
   ]
  },
  {
   "cell_type": "code",
   "execution_count": 4,
   "id": "40a761d0-f34d-4414-a937-c09abdd412aa",
   "metadata": {},
   "outputs": [],
   "source": [
    "from langchain_core.prompts import PromptTemplate\n",
    "\n",
    "prompt_extract = PromptTemplate.from_template(\n",
    "        \"\"\"\n",
    "        ### SCRAPED TEXT FROM WEBSITE:\n",
    "        {page_data}\n",
    "        ### INSTRUCTION:\n",
    "        The scraped text is from the career's page of a website.\n",
    "        Your job is to extract the job postings and return them in JSON format containing the \n",
    "        following keys: `role`, `experience`, `skills` and `description`.\n",
    "        Only return the valid JSON.\n",
    "        ### VALID JSON (NO PREAMBLE):    \n",
    "        \"\"\"\n",
    ") "
   ]
  },
  {
   "cell_type": "code",
   "execution_count": 5,
   "id": "d97cf3c3-9422-48c8-8aad-f881306aa5ef",
   "metadata": {},
   "outputs": [],
   "source": [
    "## Getting an LLM Model [llama-3.1], (use of groq cloud for faster inference)\n",
    "\n",
    "from langchain_groq import ChatGroq\n",
    "\n",
    "llm = ChatGroq(\n",
    "    model=\"llama-3.1-70b-versatile\",\n",
    "    groq_api_key = \"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\",\n",
    "    temperature=0,\n",
    "    # max_tokens=None,\n",
    "    # timeout=None,\n",
    "    # max_retries=2,\n",
    "    # # other params...\n",
    ")"
   ]
  },
  {
   "cell_type": "code",
   "execution_count": 6,
   "id": "64ad7ac3-4c93-4e2d-bb6d-a4db6fdcd80c",
   "metadata": {},
   "outputs": [],
   "source": [
    "chain_extract = prompt_extract | llm  ## forming chain using pipe operation"
   ]
  },
  {
   "cell_type": "code",
   "execution_count": 12,
   "id": "41579696-56c3-437a-b837-9c1f626c82d2",
   "metadata": {},
   "outputs": [
    {
     "data": {
      "text/plain": [
       "'\\n      PhD Predictive Maintenance in Manufacturing                                                                  Skip to main content                                          Close                Bosch Career Portal         PhD Predictive Maintenance in Manufacturing              Location Salzgitter        Fields of work  Manufacturing         Join as  Graduate         Starting date According to arrangement        Working time Vollzeit        Legal entity Robert Bosch Elektronik GmbH            Bosch data privacy statement eRecruiting     SmartRecruiters data privacy statement          Your tasks Als PhD Kandidat bist du Schnittstelle zwischen Forschung und Industrie. Du erforschst die Integration von Predictive Maintenance in das Bosch Production System.\\xa0• Du identifizierst Potentiale für Predictive Maintenance in\\n\\xa0 unserer Elektronikfertigung.\\n• Du erforschst die Integrationsmöglichkeiten von Predictive\\n\\xa0 Maintenance in eine existierende\\n\\xa0 Wartungsprozesslandschaft. Dabei berücksichtigst du den\\n\\xa0 Dreiklang aus technischen, unternehmerischen und\\n\\xa0 ökologischen Zielen.\\n• Deine Forschungsansätze implementierst du in\\n\\xa0 ausgewählte Anwendungsfälle in unserem\\n\\xa0 Fertigungsumfeld.\\n• Dabei arbeitest du mit funktionsübergreifenden Teams\\n\\xa0 zusammen, um intelligente Lösungen zu entwickeln und\\n\\xa0 zur Standardisierung beizutragen.\\n• Mit dem Lehrstuhl für Manufacturing Systems der\\n\\xa0 Universität Twente erhältst du eine exzellente Betreuung\\n\\xa0 und Zugang zu Wissenschaft und Forschung.\\n• Deine Forschungsergebnisse veröffentlichst du auf\\n\\xa0 Konferenzen und in einschlägigen Fachzeitschriften.   Your profile • Ausbildung: ausgezeichneter Master-Abschluss in\\n\\xa0 Wirtschaftsingenieurswesen, Wirtschaftsinformatik,\\xa0\\n\\xa0 Maschinenbau, Computer Science, Software Engineering\\n\\xa0 oder vergleichbar• Persönlichkeit:\\n\\xa0 Du bist intrinsisch motiviert und hast Spaß an\\n\\xa0 anwendungsnaher Forschung.\\n\\xa0 Du arbeitest selbstständig, analytisch und suchst nach\\n\\xa0 unkonventionellen Lösungen.\\n\\xa0 Du bist Teamplayer*in mit sehr guten\\n\\xa0 Kommunikationsfähigkeiten.\\n\\xa0 Interesse an interkultureller und interdisziplinärer\\n\\xa0 Zusammenarbeit runden dein Profil ab.\\n\\xa0\\n• Erfahrungen und Kenntnisse:\\n\\xa0 Die Planung und dem Betrieb von Fertigungssystemen sind\\xa0\\n\\xa0 dir vertraut und du hast idealerweise erste praktische\\n\\xa0 Erfahrungen im Fertigungsfeld gesammelt.\\n\\xa0 Du hast Interesse an Predictive Maintenance und bringst\\n\\xa0 idealerweise Programmierkenntnisse mit.\\n\\xa0 Das Verfassen wissenschaftlicher Publikationen macht dir\\n\\xa0 Spaß.\\n\\xa0 Du bringst sehr gute Deutsch- und Englischkenntnisse mit.         Contact & additional information Die finale Vergabe des Promotionsthemas obliegt der betreuenden Hochschule als zent[1]raler Ansprechpartner für Ihre Promotion.\\xa0Stelle ist befristetArbeitszeit: Gleitzeit\\xa0Sie haben Fragen zum Bewerbungsprozess?Ute Dreyer (Personalabteilung)+49 5341 28 6543Sie haben fachliche Fragen zum Job?\\xa0Philipp Langhorst (Fachabteilung)+49 5431 28 6174\\xa0             Welcome to Salzgitter As the tail unit for engine control units, we produce state-of-the-art technology in Salzgitter and also coordinate the entire production of control units within the Bosch Group.        Google Maps   Map cannot be shown without your consent   We use the Google Maps map service. For a map to be shown, you first have to give your consent. If you consent, data will be transferred to Google, cookies will be used, and the Google DoubleClick advertising network will be contacted. This may trigger further data processing operations. It cannot be ruled out that data will also be transferred to countries outside the European Economic Area.    Agree    You can revoke your consent with immediate and future effect at any time by reloading the website. Learn more            Location benefits        Wide range of health and sports activities        Space for creative work        Discounts for employees        Nature and recreational opportunities        Well connected to public transport        Intermediary service for childcare services        Free Parking        Catering facilities on site        Benefits & Services        Company doctor on site        Social counselling and intermediary service for care services        Flexible and mobile working                     Agree         YouTube   We provide videos via YouTube. For these videos to be shown, you first have to give your consent. If you consent, data will be transferred to YouTube, cookies will be used, and the Google DoubleClick advertising network will be contacted. This may trigger further data processing operations. It cannot be ruled out that data will also be transferred to countries outside the European Economic Area.               Welcome to                    Bosch          Möchten Sie Ihre Ideen in nutzbringende und sinnvolle Technologien verwandeln? Ob im Bereich Mobility Solutions, Consumer Goods, Industrial Technology oder Energy and Building Technology – mit uns verbessern Sie die Lebensqualität der Menschen auf der ganzen Welt. Willkommen bei Bosch.\\n\\xa0\\xa0\\xa0\\xa0\\xa0\\xa0\\xa0\\xa0\\xa0\\xa0\\xa0\\xa0\\xa0\\xa0\\xa0\\xa0\\xa0\\xa0\\xa0\\xa0\\xa0\\xa0\\xa0\\xa0\\xa0\\xa0\\xa0\\xa0\\xa0\\xa0\\xa0\\xa0\\xa0\\xa0\\xa0\\xa0\\xa0\\xa0\\xa0\\xa0\\xa0\\xa0\\xa0\\xa0\\nDie\\xa0Robert Bosch Elektronik GmbH freut\\xa0sich auf Ihre Bewerbung!          Similar Jobs           Our next career events              Do you need technical support?      We look forward to your inquiry.     Telephone   +4939159081448    E-mail   SupportDeutschland.HRIT@de.bosch.com               Do you need support during your application?    Contact us               Your new job is only a few clicks away  How to find the right fit and information about the hiring process.                           1. Find a job                                        Find a job   Find the right job by filtering based on your entry level, function, contract type (multiple selections possible) or use the key word search.  To further optimize your search, select your desired location or enable the location tracking.  Next steps: The job ad provides more details about the opportunity and initial information about the work location. By clicking on the \"Apply now\" button you will be redirected to our application system.                                                   2. Apply                                        Apply   There are various ways to submit your application:  Upload your resume Apply using your LinkedIn or Indeed profileEnter your information manually Next steps: After clicking “Continue”, you have the option to attach supporting documents to your application (i.e., cover letters). Individual files should not be larger than 10 MB. You can apply after acknowledging that you have read and unerstand the privacy policy. Complete your application by clicking on the \"Submit\" button.  Note:  At Bosch, we embrace diversity and strive to provide equal opportunities for all, recognizing that each individual brings unique talents and perspectives. We encourage applications from individuals with disabilities and are committed to fostering an inclusive environment where everyone can thrive. Feel free to reach out to the responsible contact in the job ad for further information.                                                   3. Receive confirmation                                        Receive confirmation   After submitting your application, you will receive a confirmation email within a few minutes. This email will contain a link to your candidate profile where you can check the status of your application at any time.  We will get back to you as soon as possible.                                                   4. Interview                                        Interview   If you are selected for an interview, we will contact you to provide more information and guidance on the next steps and to arrange an interview meeting.  The interview will take place either virtually or on site to give us the opportunity to get to know you better and to answer any questions that you may have about our company.                                                  5. Onboarding                                        Onboarding   The first few days at a new company are important, so we will guide you through your first steps. Your onboarding will vary depending on your future position and location.   Next steps: You will receive a personalized onboarding plan that outlines the key steps to get you started.                                     Invented for life     Corporate information Legal notice Data protection notice   Privacy settings     © Robert Bosch GmbH 2024, all rights reserved               '"
      ]
     },
     "execution_count": 12,
     "metadata": {},
     "output_type": "execute_result"
    }
   ],
   "source": [
    "url = \"https://jobs.bosch.com/en/job/REF221607P-phd-predictive-maintenance-in-manufacturing\"\n",
    "page_data = get_page_content(url)\n",
    "page_data "
   ]
  },
  {
   "cell_type": "code",
   "execution_count": 13,
   "id": "0d3c42ee-123d-4672-8a60-aa077cb91457",
   "metadata": {},
   "outputs": [
    {
     "data": {
      "text/plain": [
       "'[\\n  {\\n    \"role\": \"PhD Predictive Maintenance in Manufacturing\",\\n    \"experience\": \"Master\\'s degree in a relevant field, experience in manufacturing and predictive maintenance\",\\n    \"skills\": \"Programming skills, knowledge of manufacturing systems, excellent communication skills, ability to work independently and in a team\",\\n    \"description\": \"The PhD candidate will research the integration of predictive maintenance in the Bosch Production System, identify potential for predictive maintenance in electronics manufacturing, and develop intelligent solutions with cross-functional teams.\"\\n  }\\n]'"
      ]
     },
     "execution_count": 13,
     "metadata": {},
     "output_type": "execute_result"
    }
   ],
   "source": [
    "res = chain_extract.invoke(input={'page_data':page_data})\n",
    "res.content"
   ]
  },
  {
   "cell_type": "code",
   "execution_count": 14,
   "id": "ec35b805-4e69-4835-aa8a-b08864a2f419",
   "metadata": {},
   "outputs": [
    {
     "data": {
      "text/plain": [
       "str"
      ]
     },
     "execution_count": 14,
     "metadata": {},
     "output_type": "execute_result"
    }
   ],
   "source": [
    "type(res.content)"
   ]
  },
  {
   "cell_type": "markdown",
   "id": "b1d104c2-ddd5-4a62-99a1-aa12d29664ee",
   "metadata": {},
   "source": [
    "##### note: need to convert str type to jason or dict format"
   ]
  },
  {
   "cell_type": "code",
   "execution_count": 15,
   "id": "e566a864-40c3-4a59-a479-1b4866921284",
   "metadata": {},
   "outputs": [
    {
     "data": {
      "text/plain": [
       "[{'role': 'PhD Predictive Maintenance in Manufacturing',\n",
       "  'experience': \"Master's degree in a relevant field, experience in manufacturing and predictive maintenance\",\n",
       "  'skills': 'Programming skills, knowledge of manufacturing systems, excellent communication skills, ability to work independently and in a team',\n",
       "  'description': 'The PhD candidate will research the integration of predictive maintenance in the Bosch Production System, identify potential for predictive maintenance in electronics manufacturing, and develop intelligent solutions with cross-functional teams.'}]"
      ]
     },
     "execution_count": 15,
     "metadata": {},
     "output_type": "execute_result"
    }
   ],
   "source": [
    "from langchain_core.output_parsers import JsonOutputParser\n",
    "\n",
    "json_parser = JsonOutputParser()\n",
    "json_res = json_parser.parse(res.content)\n",
    "json_res"
   ]
  },
  {
   "cell_type": "code",
   "execution_count": 16,
   "id": "652359cb-6353-46e5-a808-bd2f46c58365",
   "metadata": {},
   "outputs": [
    {
     "data": {
      "text/plain": [
       "dict"
      ]
     },
     "execution_count": 16,
     "metadata": {},
     "output_type": "execute_result"
    }
   ],
   "source": [
    "type(json_res[0])"
   ]
  },
  {
   "cell_type": "code",
   "execution_count": null,
   "id": "30b5d96b-c84c-4551-b25e-3f218e7077fe",
   "metadata": {},
   "outputs": [],
   "source": []
  }
 ],
 "metadata": {
  "kernelspec": {
   "display_name": "Python 3 (ipykernel)",
   "language": "python",
   "name": "python3"
  },
  "language_info": {
   "codemirror_mode": {
    "name": "ipython",
    "version": 3
   },
   "file_extension": ".py",
   "mimetype": "text/x-python",
   "name": "python",
   "nbconvert_exporter": "python",
   "pygments_lexer": "ipython3",
   "version": "3.11.5"
  }
 },
 "nbformat": 4,
 "nbformat_minor": 5
}
