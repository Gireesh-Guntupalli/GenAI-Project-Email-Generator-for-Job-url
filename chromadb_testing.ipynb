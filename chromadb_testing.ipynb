{
 "cells": [
  {
   "cell_type": "code",
   "execution_count": 1,
   "id": "6fe16a4e-3a4b-44ed-8ea8-62c06a6c9103",
   "metadata": {},
   "outputs": [],
   "source": [
    "import chromadb"
   ]
  },
  {
   "cell_type": "code",
   "execution_count": 2,
   "id": "75fe25d0-c3c0-4fca-a234-7ffe1a481307",
   "metadata": {},
   "outputs": [],
   "source": [
    "client = chromadb.Client() ## starting a client\n",
    "collection = client.create_collection(name = \"sample_collection\") ## creating a sample db or collection to store embeddings"
   ]
  },
  {
   "cell_type": "markdown",
   "id": "44dcfb72-1f6a-4650-9a56-acb0c69426b3",
   "metadata": {},
   "source": [
    "#### Adding entries into smaple collection"
   ]
  },
  {
   "cell_type": "code",
   "execution_count": 3,
   "id": "db02489b-fb46-4a7e-81bb-bf8db171dd5b",
   "metadata": {},
   "outputs": [],
   "source": [
    "collection.add(\n",
    "    documents=[\n",
    "        \"This is a document about India\",\n",
    "        \"This is a document about Germany\"\n",
    "    ],\n",
    "    ids=[\"id1\", \"id2\"], ## indexxing\n",
    "    # metadatas=[]\n",
    ")"
   ]
  },
  {
   "cell_type": "markdown",
   "id": "86ad21ba-ab5f-440e-8738-0f9c980c4a2e",
   "metadata": {},
   "source": [
    "#### Querying sample collection"
   ]
  },
  {
   "cell_type": "code",
   "execution_count": 4,
   "id": "0ea1ce66-284c-4d50-86cc-3051382f8b7d",
   "metadata": {},
   "outputs": [],
   "source": [
    "def query_collection(query_text, n_results=2):\n",
    "    results = collection.query(\n",
    "        query_texts=[query_text],  # Embed the query text\n",
    "        n_results=n_results  # Number of results to return\n",
    "    )\n",
    "    return results"
   ]
  },
  {
   "cell_type": "code",
   "execution_count": 5,
   "id": "54ee9a7a-c3ac-4237-8eea-f34861699be5",
   "metadata": {},
   "outputs": [
    {
     "name": "stdout",
     "output_type": "stream",
     "text": [
      "{'ids': [['id2', 'id1']], 'distances': [[1.2609893083572388, 1.4815009832382202]], 'metadatas': [[None, None]], 'embeddings': None, 'documents': [['This is a document about Germany', 'This is a document about India']], 'uris': None, 'data': None, 'included': ['metadatas', 'documents', 'distances']}\n"
     ]
    }
   ],
   "source": [
    "results = query_collection(\"This is a query document about Bosch\")\n",
    "print(results)"
   ]
  },
  {
   "cell_type": "code",
   "execution_count": 7,
   "id": "629f1e9c-f920-4890-9f4c-62fbdfbc241c",
   "metadata": {},
   "outputs": [
    {
     "name": "stdout",
     "output_type": "stream",
     "text": [
      "{'ids': [['id2', 'id1']], 'distances': [[0.6165066957473755, 1.306043028831482]], 'metadatas': [[None, None]], 'embeddings': None, 'documents': [['This is a document about Germany', 'This is a document about India']], 'uris': None, 'data': None, 'included': ['metadatas', 'documents', 'distances']}\n"
     ]
    }
   ],
   "source": [
    "results = query_collection(\"This is a query document about North Rhine-Westphalia\")\n",
    "print(results)"
   ]
  },
  {
   "cell_type": "code",
   "execution_count": 8,
   "id": "a66da94a-1418-4fe1-9f48-bc01bd0e9fa2",
   "metadata": {},
   "outputs": [
    {
     "name": "stdout",
     "output_type": "stream",
     "text": [
      "{'ids': [['id1', 'id2']], 'distances': [[0.9447221159934998, 1.537457823753357]], 'metadatas': [[None, None]], 'embeddings': None, 'documents': [['This is a document about India', 'This is a document about Germany']], 'uris': None, 'data': None, 'included': ['metadatas', 'documents', 'distances']}\n"
     ]
    }
   ],
   "source": [
    "results = query_collection(\"This is a query document about Hyderabadi Biryani\")\n",
    "print(results)"
   ]
  },
  {
   "cell_type": "code",
   "execution_count": 9,
   "id": "4131aacd-83e8-415f-b5aa-d367ccf8f8f1",
   "metadata": {},
   "outputs": [
    {
     "name": "stdout",
     "output_type": "stream",
     "text": [
      "{'ids': [['id1', 'id2']], 'distances': [[1.3815234899520874, 1.906717300415039]], 'metadatas': [[None, None]], 'embeddings': None, 'documents': [['This is a document about India', 'This is a document about Germany']], 'uris': None, 'data': None, 'included': ['metadatas', 'documents', 'distances']}\n"
     ]
    }
   ],
   "source": [
    "results = query_collection(\"Lord Rama\")\n",
    "print(results)"
   ]
  },
  {
   "cell_type": "code",
   "execution_count": 12,
   "id": "73d9cf7f-9624-4df9-8857-6996096cb174",
   "metadata": {},
   "outputs": [
    {
     "name": "stdout",
     "output_type": "stream",
     "text": [
      "{'ids': [['id1']], 'distances': [[1.5009334087371826]], 'metadatas': [[None]], 'embeddings': None, 'documents': [['This is a document about India']], 'uris': None, 'data': None, 'included': ['metadatas', 'documents', 'distances']}\n"
     ]
    }
   ],
   "source": [
    "def query_collection(query_text, n_results):\n",
    "    results = collection.query(\n",
    "        query_texts=[query_text],  # Embed the query text\n",
    "        n_results=n_results  # Number of results to return\n",
    "    )\n",
    "    return results\n",
    "\n",
    "results = query_collection(\"Pawan Kalyan\", 1)\n",
    "print(results)"
   ]
  },
  {
   "cell_type": "code",
   "execution_count": 16,
   "id": "f3c38173-8591-4331-bb2e-4152c992baec",
   "metadata": {},
   "outputs": [
    {
     "name": "stdout",
     "output_type": "stream",
     "text": [
      "{'ids': [['id2']], 'distances': [[1.0441300868988037]], 'metadatas': [[None]], 'embeddings': None, 'documents': [['This is a document about Germany']], 'uris': None, 'data': None, 'included': ['metadatas', 'documents', 'distances']}\n"
     ]
    }
   ],
   "source": [
    "results = query_collection(\"Stuttgart\",1)\n",
    "print(results)"
   ]
  },
  {
   "cell_type": "code",
   "execution_count": null,
   "id": "480d1649-6055-4d8a-9b39-d28529344c19",
   "metadata": {},
   "outputs": [],
   "source": []
  }
 ],
 "metadata": {
  "kernelspec": {
   "display_name": "Python 3 (ipykernel)",
   "language": "python",
   "name": "python3"
  },
  "language_info": {
   "codemirror_mode": {
    "name": "ipython",
    "version": 3
   },
   "file_extension": ".py",
   "mimetype": "text/x-python",
   "name": "python",
   "nbconvert_exporter": "python",
   "pygments_lexer": "ipython3",
   "version": "3.11.5"
  }
 },
 "nbformat": 4,
 "nbformat_minor": 5
}
